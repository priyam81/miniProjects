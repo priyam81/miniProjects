{
 "cells": [
  {
   "cell_type": "code",
   "execution_count": 17,
   "metadata": {},
   "outputs": [],
   "source": [
    "import pandas as pd\n",
    "import numpy as np"
   ]
  },
  {
   "cell_type": "code",
   "execution_count": 28,
   "metadata": {},
   "outputs": [],
   "source": [
    "# Importing the files\n",
    "df_user = pd.read_csv(\"takehome_users.csv\", encoding=\"ISO-8859-1\")\n",
    "df_eng = pd.read_csv(\"takehome_user_engagement.csv\", parse_dates=[\"time_stamp\"])\n",
    "\n",
    "df_user = df_user.rename({\"object_id\":\"user_id\"}, axis=1)"
   ]
  },
  {
   "cell_type": "code",
   "execution_count": 29,
   "metadata": {},
   "outputs": [
    {
     "name": "stdout",
     "output_type": "stream",
     "text": [
      "<class 'pandas.core.frame.DataFrame'>\n",
      "RangeIndex: 12000 entries, 0 to 11999\n",
      "Data columns (total 10 columns):\n",
      " #   Column                      Non-Null Count  Dtype  \n",
      "---  ------                      --------------  -----  \n",
      " 0   user_id                     12000 non-null  int64  \n",
      " 1   creation_time               12000 non-null  object \n",
      " 2   name                        12000 non-null  object \n",
      " 3   email                       12000 non-null  object \n",
      " 4   creation_source             12000 non-null  object \n",
      " 5   last_session_creation_time  8823 non-null   float64\n",
      " 6   opted_in_to_mailing_list    12000 non-null  int64  \n",
      " 7   enabled_for_marketing_drip  12000 non-null  int64  \n",
      " 8   org_id                      12000 non-null  int64  \n",
      " 9   invited_by_user_id          6417 non-null   float64\n",
      "dtypes: float64(2), int64(4), object(4)\n",
      "memory usage: 937.6+ KB\n"
     ]
    }
   ],
   "source": [
    "df_user.info()"
   ]
  },
  {
   "cell_type": "code",
   "execution_count": 30,
   "metadata": {},
   "outputs": [
    {
     "name": "stdout",
     "output_type": "stream",
     "text": [
      "<class 'pandas.core.frame.DataFrame'>\n",
      "RangeIndex: 207917 entries, 0 to 207916\n",
      "Data columns (total 3 columns):\n",
      " #   Column      Non-Null Count   Dtype         \n",
      "---  ------      --------------   -----         \n",
      " 0   time_stamp  207917 non-null  datetime64[ns]\n",
      " 1   user_id     207917 non-null  int64         \n",
      " 2   visited     207917 non-null  int64         \n",
      "dtypes: datetime64[ns](1), int64(2)\n",
      "memory usage: 4.8 MB\n"
     ]
    }
   ],
   "source": [
    "df_eng.info()"
   ]
  },
  {
   "cell_type": "code",
   "execution_count": 31,
   "metadata": {},
   "outputs": [],
   "source": [
    "# defining an 'adopted user' #\n",
    "df_agg = df_eng.set_index(\"time_stamp\")\n",
    "\n",
    "users = df_agg[\"user_id\"].unique()\n",
    "adoption = []\n",
    "\n",
    "for i in users:\n",
    "    id_filter = df_agg[\"user_id\"] == i\n",
    "    df_filter = df_agg[id_filter].resample(\"1D\").count()\n",
    "    df_filter = df_filter.rolling(window=7).sum()\n",
    "    df_filter = df_filter.dropna()\n",
    "    adoption.append(any(df_filter[\"visited\"].values >= 7))"
   ]
  },
  {
   "cell_type": "code",
   "execution_count": 32,
   "metadata": {},
   "outputs": [],
   "source": [
    "# applying 'adopted_user' logic onto df #\n",
    "user_adoption = list(zip(users, adoption))\n",
    "\n",
    "df_adopt = pd.DataFrame(user_adoption)\n",
    "\n",
    "df_adopt\n",
    "df_adopt.columns = [\"user_id\", \"adopted_user\"]\n",
    "\n",
    "df_adopt\n",
    "df = df_user.merge(df_adopt, on=\"user_id\", how=\"left\")"
   ]
  },
  {
   "cell_type": "code",
   "execution_count": 33,
   "metadata": {},
   "outputs": [],
   "source": [
    "# mapping 'adopted_user' #\n",
    "df.loc[:, \"adopted_user\"] = df[\"adopted_user\"].map({False:0, True:1, np.nan:0})\n",
    "df.dropna(subset=[\"adopted_user\"], inplace=True)\n",
    "df[\"adopted_user\"] = df[\"adopted_user\"].astype(int)\n"
   ]
  },
  {
   "cell_type": "code",
   "execution_count": 34,
   "metadata": {},
   "outputs": [],
   "source": [
    "# mapping 'invited_by_user' #\n",
    "invite = lambda row: 0 if np.isnan(row) else 1\n",
    "df[\"invited_by_user\"] = df[\"invited_by_user_id\"].apply(invite)"
   ]
  },
  {
   "cell_type": "code",
   "execution_count": 35,
   "metadata": {},
   "outputs": [],
   "source": [
    "# final df #\n",
    "df = df[[\"adopted_user\", \"invited_by_user\", \"creation_source\", \\\n",
    "         \"opted_in_to_mailing_list\", \"enabled_for_marketing_drip\"]]"
   ]
  },
  {
   "cell_type": "code",
   "execution_count": 36,
   "metadata": {},
   "outputs": [
    {
     "data": {
      "text/html": [
       "<div>\n",
       "<style scoped>\n",
       "    .dataframe tbody tr th:only-of-type {\n",
       "        vertical-align: middle;\n",
       "    }\n",
       "\n",
       "    .dataframe tbody tr th {\n",
       "        vertical-align: top;\n",
       "    }\n",
       "\n",
       "    .dataframe thead th {\n",
       "        text-align: right;\n",
       "    }\n",
       "</style>\n",
       "<table border=\"1\" class=\"dataframe\">\n",
       "  <thead>\n",
       "    <tr style=\"text-align: right;\">\n",
       "      <th></th>\n",
       "      <th>adopted_user</th>\n",
       "      <th>invited_by_user</th>\n",
       "      <th>creation_source</th>\n",
       "      <th>opted_in_to_mailing_list</th>\n",
       "      <th>enabled_for_marketing_drip</th>\n",
       "    </tr>\n",
       "  </thead>\n",
       "  <tbody>\n",
       "    <tr>\n",
       "      <th>0</th>\n",
       "      <td>0</td>\n",
       "      <td>1</td>\n",
       "      <td>GUEST_INVITE</td>\n",
       "      <td>1</td>\n",
       "      <td>0</td>\n",
       "    </tr>\n",
       "    <tr>\n",
       "      <th>1</th>\n",
       "      <td>0</td>\n",
       "      <td>1</td>\n",
       "      <td>ORG_INVITE</td>\n",
       "      <td>0</td>\n",
       "      <td>0</td>\n",
       "    </tr>\n",
       "    <tr>\n",
       "      <th>2</th>\n",
       "      <td>0</td>\n",
       "      <td>1</td>\n",
       "      <td>ORG_INVITE</td>\n",
       "      <td>0</td>\n",
       "      <td>0</td>\n",
       "    </tr>\n",
       "    <tr>\n",
       "      <th>3</th>\n",
       "      <td>0</td>\n",
       "      <td>1</td>\n",
       "      <td>GUEST_INVITE</td>\n",
       "      <td>0</td>\n",
       "      <td>0</td>\n",
       "    </tr>\n",
       "    <tr>\n",
       "      <th>4</th>\n",
       "      <td>0</td>\n",
       "      <td>1</td>\n",
       "      <td>GUEST_INVITE</td>\n",
       "      <td>0</td>\n",
       "      <td>0</td>\n",
       "    </tr>\n",
       "  </tbody>\n",
       "</table>\n",
       "</div>"
      ],
      "text/plain": [
       "   adopted_user  invited_by_user creation_source  opted_in_to_mailing_list  \\\n",
       "0             0                1    GUEST_INVITE                         1   \n",
       "1             0                1      ORG_INVITE                         0   \n",
       "2             0                1      ORG_INVITE                         0   \n",
       "3             0                1    GUEST_INVITE                         0   \n",
       "4             0                1    GUEST_INVITE                         0   \n",
       "\n",
       "   enabled_for_marketing_drip  \n",
       "0                           0  \n",
       "1                           0  \n",
       "2                           0  \n",
       "3                           0  \n",
       "4                           0  "
      ]
     },
     "execution_count": 36,
     "metadata": {},
     "output_type": "execute_result"
    }
   ],
   "source": [
    "df.head()"
   ]
  },
  {
   "cell_type": "code",
   "execution_count": 37,
   "metadata": {},
   "outputs": [
    {
     "name": "stdout",
     "output_type": "stream",
     "text": [
      "Best parameters: {'rf__max_depth': 5, 'rf__n_estimators': 50}\n",
      "Training accuracy score from tuned model:        94.8%\n"
     ]
    }
   ],
   "source": [
    "#model building\n",
    "from sklearn.model_selection import train_test_split\n",
    "from sklearn.model_selection import GridSearchCV\n",
    "from sklearn.pipeline import Pipeline\n",
    "from sklearn.preprocessing import OneHotEncoder\n",
    "from sklearn.ensemble import RandomForestClassifier\n",
    "from sklearn.metrics import accuracy_score\n",
    "\n",
    "# machine learning pipeline #\n",
    "X = df[df.columns[1:]]\n",
    "y = df[df.columns[0]]\n",
    "\n",
    "X_train, X_test, y_train, y_test = train_test_split(X, y, stratify=y, test_size=0.6, random_state=42)\n",
    "\n",
    "pipeline = Pipeline(steps=[(\"encoder\", OneHotEncoder()), \\\n",
    "                           (\"rf\", RandomForestClassifier(random_state = 42))])\n",
    "\n",
    "params = {\"rf__n_estimators\" : [50, 75, 100],\n",
    "          \"rf__max_depth\" : [5, 10, 15]}\n",
    "\n",
    "cv = GridSearchCV(pipeline, param_grid=params, cv=3)\n",
    "cv.fit(X_train, y_train)\n",
    "\n",
    "print(f\"Best parameters: {cv.best_params_}\")\n",
    "print(f\"Training accuracy score from tuned model: \\\n",
    "       {cv.best_score_*100:.1f}%\")"
   ]
  },
  {
   "cell_type": "code",
   "execution_count": 38,
   "metadata": {},
   "outputs": [
    {
     "name": "stdout",
     "output_type": "stream",
     "text": [
      "Model accuracy: 94.82%\n"
     ]
    }
   ],
   "source": [
    "y_pred = cv.predict(X_test)\n",
    "test_accuracy = accuracy_score(y_test, y_pred)\n",
    "print(f\"Model accuracy: {test_accuracy*100:.2f}%\")"
   ]
  },
  {
   "cell_type": "code",
   "execution_count": 39,
   "metadata": {},
   "outputs": [
    {
     "name": "stdout",
     "output_type": "stream",
     "text": [
      "Weight: 0.127 | Feature: creation_source_PERSONAL_PROJECTS\n",
      "Weight: 0.110 | Feature: creation_source_GUEST_INVITE\n",
      "Weight: 0.084 | Feature: enabled_for_marketing_drip\n",
      "Weight: 0.074 | Feature: creation_source_ORG_INVITE\n",
      "Weight: 0.055 | Feature: invited_by_user\n",
      "Weight: 0.031 | Feature: creation_source_SIGNUP\n",
      "Weight: 0.005 | Feature: creation_source_SIGNUP_GOOGLE_AUTH\n",
      "Weight: 0.000 | Feature: opted_in_to_mailing_list\n"
     ]
    },
    {
     "name": "stderr",
     "output_type": "stream",
     "text": [
      "/home/priyam/anaconda3/lib/python3.7/site-packages/sklearn/preprocessing/_encoders.py:415: FutureWarning: The handling of integer data will change in version 0.22. Currently, the categories are determined based on the range [0, max(values)], while in the future they will be determined based on the unique values.\n",
      "If you want the future behaviour and silence this warning, you can specify \"categories='auto'\".\n",
      "In case you used a LabelEncoder before this OneHotEncoder to convert the categories to integers, then you can now use the OneHotEncoder directly.\n",
      "  warnings.warn(msg, FutureWarning)\n",
      "/home/priyam/anaconda3/lib/python3.7/site-packages/sklearn/ensemble/forest.py:245: FutureWarning: The default value of n_estimators will change from 10 in version 0.20 to 100 in 0.22.\n",
      "  \"10 in version 0.20 to 100 in 0.22.\", FutureWarning)\n"
     ]
    }
   ],
   "source": [
    "X_ohe = pd.get_dummies(X_test)\n",
    "pipeline.fit(X_ohe, y_test)\n",
    "\n",
    "fe = pipeline.named_steps[\"rf\"].feature_importances_\n",
    "\n",
    "feature_importance = zip(X_ohe.columns, fe)\n",
    "feature_importance = sorted(feature_importance, key=lambda x:x[1], reverse=True)\n",
    "\n",
    "for i, j in feature_importance:\n",
    "    print(f\"Weight: {j:.3f} | Feature: {i}\")"
   ]
  },
  {
   "cell_type": "markdown",
   "metadata": {},
   "source": [
    "From the raw data, we have utilised the following features\n",
    "\n",
    "1. invited_by_user - if a user was referred by another user (custom feature)\n",
    "2. creation_source - how the account was created (stock feature)\n",
    "3. opted_in_to_mailing_list - whether user has opted into receiving marketing emails (stock feature)\n",
    "4. enabled_for_marketing_drip - whether they are on the regular marketing email drip (stock feature)"
   ]
  },
  {
   "cell_type": "markdown",
   "metadata": {},
   "source": [
    "The model proposed here is having an accuracy comparable to the cross-validation traning score(~ 94%).\n",
    "This suggests that the pipeline feature realiable in determining the predictors.\n"
   ]
  },
  {
   "cell_type": "markdown",
   "metadata": {},
   "source": [
    "#### Suggestions:\n",
    "We could focus more on the personalised experience for the users as personal workspace and guest invite rank highest on how user interacted.\n",
    "The marketing drip needs to kept rolling as this has shown results.\n",
    "The user opting it to the mailing-list has shown to be a least effective predcitor, hence the newsletter call-to-action won't result in any significant sales increase. "
   ]
  },
  {
   "cell_type": "code",
   "execution_count": null,
   "metadata": {},
   "outputs": [],
   "source": []
  }
 ],
 "metadata": {
  "kernelspec": {
   "display_name": "Python 3",
   "language": "python",
   "name": "python3"
  },
  "language_info": {
   "codemirror_mode": {
    "name": "ipython",
    "version": 3
   },
   "file_extension": ".py",
   "mimetype": "text/x-python",
   "name": "python",
   "nbconvert_exporter": "python",
   "pygments_lexer": "ipython3",
   "version": "3.7.3"
  }
 },
 "nbformat": 4,
 "nbformat_minor": 2
}
